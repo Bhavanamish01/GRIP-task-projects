{
 "cells": [
  {
   "cell_type": "markdown",
   "id": "63b8aa00",
   "metadata": {},
   "source": [
    "# Task 1 from spark foundation"
   ]
  },
  {
   "cell_type": "markdown",
   "id": "f3b18f33",
   "metadata": {},
   "source": [
    "# Prediction using Supervised ML\n",
    "(Student's Percentage Prediction Model )\n"
   ]
  },
  {
   "cell_type": "markdown",
   "id": "7dc2a07d",
   "metadata": {},
   "source": [
    "# Author: Bhavana Mishra"
   ]
  },
  {
   "cell_type": "code",
   "execution_count": 1,
   "id": "26ab1a66",
   "metadata": {},
   "outputs": [],
   "source": [
    "import numpy as np\n",
    "import pandas as pd\n",
    "import matplotlib.pyplot as plt\n",
    "%matplotlib inline"
   ]
  },
  {
   "cell_type": "markdown",
   "id": "cc115498",
   "metadata": {},
   "source": [
    "# Reading CSV file "
   ]
  },
  {
   "cell_type": "code",
   "execution_count": 2,
   "id": "464b8ebd",
   "metadata": {},
   "outputs": [],
   "source": [
    "student_data = pd.read_csv('http://bit.ly/w-data')"
   ]
  },
  {
   "cell_type": "code",
   "execution_count": 3,
   "id": "4014469a",
   "metadata": {},
   "outputs": [
    {
     "data": {
      "text/html": [
       "<div>\n",
       "<style scoped>\n",
       "    .dataframe tbody tr th:only-of-type {\n",
       "        vertical-align: middle;\n",
       "    }\n",
       "\n",
       "    .dataframe tbody tr th {\n",
       "        vertical-align: top;\n",
       "    }\n",
       "\n",
       "    .dataframe thead th {\n",
       "        text-align: right;\n",
       "    }\n",
       "</style>\n",
       "<table border=\"1\" class=\"dataframe\">\n",
       "  <thead>\n",
       "    <tr style=\"text-align: right;\">\n",
       "      <th></th>\n",
       "      <th>Hours</th>\n",
       "      <th>Scores</th>\n",
       "    </tr>\n",
       "  </thead>\n",
       "  <tbody>\n",
       "    <tr>\n",
       "      <th>0</th>\n",
       "      <td>2.5</td>\n",
       "      <td>21</td>\n",
       "    </tr>\n",
       "    <tr>\n",
       "      <th>1</th>\n",
       "      <td>5.1</td>\n",
       "      <td>47</td>\n",
       "    </tr>\n",
       "    <tr>\n",
       "      <th>2</th>\n",
       "      <td>3.2</td>\n",
       "      <td>27</td>\n",
       "    </tr>\n",
       "    <tr>\n",
       "      <th>3</th>\n",
       "      <td>8.5</td>\n",
       "      <td>75</td>\n",
       "    </tr>\n",
       "    <tr>\n",
       "      <th>4</th>\n",
       "      <td>3.5</td>\n",
       "      <td>30</td>\n",
       "    </tr>\n",
       "  </tbody>\n",
       "</table>\n",
       "</div>"
      ],
      "text/plain": [
       "   Hours  Scores\n",
       "0    2.5      21\n",
       "1    5.1      47\n",
       "2    3.2      27\n",
       "3    8.5      75\n",
       "4    3.5      30"
      ]
     },
     "execution_count": 3,
     "metadata": {},
     "output_type": "execute_result"
    }
   ],
   "source": [
    "student_data.head()"
   ]
  },
  {
   "cell_type": "markdown",
   "id": "ea031843",
   "metadata": {},
   "source": [
    "# Describing Data"
   ]
  },
  {
   "cell_type": "code",
   "execution_count": 4,
   "id": "561e4bad",
   "metadata": {},
   "outputs": [
    {
     "data": {
      "text/html": [
       "<div>\n",
       "<style scoped>\n",
       "    .dataframe tbody tr th:only-of-type {\n",
       "        vertical-align: middle;\n",
       "    }\n",
       "\n",
       "    .dataframe tbody tr th {\n",
       "        vertical-align: top;\n",
       "    }\n",
       "\n",
       "    .dataframe thead th {\n",
       "        text-align: right;\n",
       "    }\n",
       "</style>\n",
       "<table border=\"1\" class=\"dataframe\">\n",
       "  <thead>\n",
       "    <tr style=\"text-align: right;\">\n",
       "      <th></th>\n",
       "      <th>Hours</th>\n",
       "      <th>Scores</th>\n",
       "    </tr>\n",
       "  </thead>\n",
       "  <tbody>\n",
       "    <tr>\n",
       "      <th>count</th>\n",
       "      <td>25.000000</td>\n",
       "      <td>25.000000</td>\n",
       "    </tr>\n",
       "    <tr>\n",
       "      <th>mean</th>\n",
       "      <td>5.012000</td>\n",
       "      <td>51.480000</td>\n",
       "    </tr>\n",
       "    <tr>\n",
       "      <th>std</th>\n",
       "      <td>2.525094</td>\n",
       "      <td>25.286887</td>\n",
       "    </tr>\n",
       "    <tr>\n",
       "      <th>min</th>\n",
       "      <td>1.100000</td>\n",
       "      <td>17.000000</td>\n",
       "    </tr>\n",
       "    <tr>\n",
       "      <th>25%</th>\n",
       "      <td>2.700000</td>\n",
       "      <td>30.000000</td>\n",
       "    </tr>\n",
       "    <tr>\n",
       "      <th>50%</th>\n",
       "      <td>4.800000</td>\n",
       "      <td>47.000000</td>\n",
       "    </tr>\n",
       "    <tr>\n",
       "      <th>75%</th>\n",
       "      <td>7.400000</td>\n",
       "      <td>75.000000</td>\n",
       "    </tr>\n",
       "    <tr>\n",
       "      <th>max</th>\n",
       "      <td>9.200000</td>\n",
       "      <td>95.000000</td>\n",
       "    </tr>\n",
       "  </tbody>\n",
       "</table>\n",
       "</div>"
      ],
      "text/plain": [
       "           Hours     Scores\n",
       "count  25.000000  25.000000\n",
       "mean    5.012000  51.480000\n",
       "std     2.525094  25.286887\n",
       "min     1.100000  17.000000\n",
       "25%     2.700000  30.000000\n",
       "50%     4.800000  47.000000\n",
       "75%     7.400000  75.000000\n",
       "max     9.200000  95.000000"
      ]
     },
     "execution_count": 4,
     "metadata": {},
     "output_type": "execute_result"
    }
   ],
   "source": [
    "student_data.describe()"
   ]
  },
  {
   "cell_type": "markdown",
   "id": "7cbc703b",
   "metadata": {},
   "source": [
    "# Dimension of the DataFrrame "
   ]
  },
  {
   "cell_type": "code",
   "execution_count": 5,
   "id": "e7c39704",
   "metadata": {},
   "outputs": [
    {
     "data": {
      "text/plain": [
       "(25, 2)"
      ]
     },
     "execution_count": 5,
     "metadata": {},
     "output_type": "execute_result"
    }
   ],
   "source": [
    "\n",
    "student_data.shape"
   ]
  },
  {
   "cell_type": "markdown",
   "id": "b4bc3d8c",
   "metadata": {},
   "source": [
    "# Graphical view of the data\n"
   ]
  },
  {
   "cell_type": "code",
   "execution_count": 6,
   "id": "81fee045",
   "metadata": {},
   "outputs": [
    {
     "data": {
      "image/png": "[encoded data removed]",
      "text/plain": [
       "<Figure size 432x288 with 1 Axes>"
      ]
     },
     "metadata": {
      "needs_background": "light"
     },
     "output_type": "display_data"
    }
   ],
   "source": [
    "\n",
    "student_data.plot(x='Hours', y='Scores', style='*') \n",
    "plt.title('Hrs Studied vs Percentage Score')\n",
    "plt.xlabel('Hours student studied')\n",
    "plt.ylabel('% of student\\'s score') \n",
    "plt.show()\n"
   ]
  },
  {
   "cell_type": "markdown",
   "id": "56025f12",
   "metadata": {},
   "source": [
    "# Spliting the data into input and output\n"
   ]
  },
  {
   "cell_type": "code",
   "execution_count": 7,
   "id": "75874dc8",
   "metadata": {},
   "outputs": [],
   "source": [
    "\n",
    "X = student_data.iloc[:,:-1].values\n",
    "y = student_data.iloc[:, 1].values\n"
   ]
  },
  {
   "cell_type": "markdown",
   "id": "6e825741",
   "metadata": {},
   "source": [
    "# Divide the data into train and test dataset\n"
   ]
  },
  {
   "cell_type": "code",
   "execution_count": 9,
   "id": "333fc8ee",
   "metadata": {},
   "outputs": [],
   "source": [
    "\n",
    "from sklearn.model_selection import train_test_split\n",
    "X_train, X_test, y_train, y_test =  train_test_split(X,y,test_size=0.3,random_state=0)\n"
   ]
  },
  {
   "cell_type": "markdown",
   "id": "99c4d081",
   "metadata": {},
   "source": [
    "# Fitting Linear Regression to the Training set\n",
    "\n"
   ]
  },
  {
   "cell_type": "code",
   "execution_count": 10,
   "id": "77a8d9fe",
   "metadata": {},
   "outputs": [
    {
     "data": {
      "text/plain": [
       "LinearRegression()"
      ]
     },
     "execution_count": 10,
     "metadata": {},
     "output_type": "execute_result"
    }
   ],
   "source": [
    "from sklearn.linear_model import LinearRegression\n",
    "linear_regression = LinearRegression()\n",
    "linear_regression.fit(X_train, y_train)\n"
   ]
  },
  {
   "cell_type": "markdown",
   "id": "3bd8ac5b",
   "metadata": {},
   "source": [
    "# visualising the training data\n"
   ]
  },
  {
   "cell_type": "code",
   "execution_count": 12,
   "id": "cf5dbd54",
   "metadata": {},
   "outputs": [
    {
     "data": {
      "image/png": "[encoded data removed]",
      "text/plain": [
       "<Figure size 432x288 with 1 Axes>"
      ]
     },
     "metadata": {
      "needs_background": "light"
     },
     "output_type": "display_data"
    }
   ],
   "source": [
    "\n",
    "plt.scatter(X_train, y_train, color='blue')\n",
    "plt.plot(X_train, linear_regression.predict(X_train), color='red')\n",
    "plt.title('Hrs Studied vs Percentage Score')\n",
    "plt.xlabel('Hours student studied')\n",
    "plt.ylabel('% of student\\'s score') \n",
    "plt.show()\n"
   ]
  },
  {
   "cell_type": "markdown",
   "id": "7c1cac6a",
   "metadata": {},
   "source": [
    "# Visualising the testing data\n"
   ]
  },
  {
   "cell_type": "code",
   "execution_count": 13,
   "id": "15d90439",
   "metadata": {},
   "outputs": [
    {
     "data": {
      "image/png": "[encoded data removed]",
      "text/plain": [
       "<Figure size 432x288 with 1 Axes>"
      ]
     },
     "metadata": {
      "needs_background": "light"
     },
     "output_type": "display_data"
    }
   ],
   "source": [
    "\n",
    "plt.scatter(X_test, y_test, color='blue')\n",
    "plt.plot(X_train, linear_regression.predict(X_train), color='red')\n",
    "plt.title('Hrs Studied vs Percentage Score')\n",
    "plt.xlabel('Hours student studied')\n",
    "plt.ylabel('% of student\\'s score') \n",
    "plt.show()"
   ]
  },
  {
   "cell_type": "markdown",
   "id": "e3136427",
   "metadata": {},
   "source": [
    "# Predicting the Test set results\n"
   ]
  },
  {
   "cell_type": "code",
   "execution_count": 14,
   "id": "38982b6a",
   "metadata": {},
   "outputs": [
    {
     "data": {
      "text/plain": [
       "array([17.05366541, 33.69422878, 74.80620886, 26.8422321 , 60.12335883,\n",
       "       39.56736879, 20.96909209, 78.72163554])"
      ]
     },
     "execution_count": 14,
     "metadata": {},
     "output_type": "execute_result"
    }
   ],
   "source": [
    "\n",
    "y_pred = linear_regression.predict(X_test)\n",
    "y_pred"
   ]
  },
  {
   "cell_type": "markdown",
   "id": "cf1860b8",
   "metadata": {},
   "source": [
    "# Comparing the Actual and Predicted Value (in tabular form).\n"
   ]
  },
  {
   "cell_type": "code",
   "execution_count": 15,
   "id": "05985c11",
   "metadata": {},
   "outputs": [
    {
     "data": {
      "text/html": [
       "<div>\n",
       "<style scoped>\n",
       "    .dataframe tbody tr th:only-of-type {\n",
       "        vertical-align: middle;\n",
       "    }\n",
       "\n",
       "    .dataframe tbody tr th {\n",
       "        vertical-align: top;\n",
       "    }\n",
       "\n",
       "    .dataframe thead th {\n",
       "        text-align: right;\n",
       "    }\n",
       "</style>\n",
       "<table border=\"1\" class=\"dataframe\">\n",
       "  <thead>\n",
       "    <tr style=\"text-align: right;\">\n",
       "      <th></th>\n",
       "      <th>Actual Value</th>\n",
       "      <th>Predicted value</th>\n",
       "    </tr>\n",
       "  </thead>\n",
       "  <tbody>\n",
       "    <tr>\n",
       "      <th>0</th>\n",
       "      <td>20</td>\n",
       "      <td>17.053665</td>\n",
       "    </tr>\n",
       "    <tr>\n",
       "      <th>1</th>\n",
       "      <td>27</td>\n",
       "      <td>33.694229</td>\n",
       "    </tr>\n",
       "    <tr>\n",
       "      <th>2</th>\n",
       "      <td>69</td>\n",
       "      <td>74.806209</td>\n",
       "    </tr>\n",
       "    <tr>\n",
       "      <th>3</th>\n",
       "      <td>30</td>\n",
       "      <td>26.842232</td>\n",
       "    </tr>\n",
       "    <tr>\n",
       "      <th>4</th>\n",
       "      <td>62</td>\n",
       "      <td>60.123359</td>\n",
       "    </tr>\n",
       "    <tr>\n",
       "      <th>5</th>\n",
       "      <td>35</td>\n",
       "      <td>39.567369</td>\n",
       "    </tr>\n",
       "    <tr>\n",
       "      <th>6</th>\n",
       "      <td>24</td>\n",
       "      <td>20.969092</td>\n",
       "    </tr>\n",
       "    <tr>\n",
       "      <th>7</th>\n",
       "      <td>86</td>\n",
       "      <td>78.721636</td>\n",
       "    </tr>\n",
       "  </tbody>\n",
       "</table>\n",
       "</div>"
      ],
      "text/plain": [
       "   Actual Value  Predicted value\n",
       "0            20        17.053665\n",
       "1            27        33.694229\n",
       "2            69        74.806209\n",
       "3            30        26.842232\n",
       "4            62        60.123359\n",
       "5            35        39.567369\n",
       "6            24        20.969092\n",
       "7            86        78.721636"
      ]
     },
     "execution_count": 15,
     "metadata": {},
     "output_type": "execute_result"
    }
   ],
   "source": [
    "\n",
    "df = pd.DataFrame({'Actual Value': y_test, 'Predicted value': y_pred})  \n",
    "df"
   ]
  },
  {
   "cell_type": "markdown",
   "id": "d1a51bcc",
   "metadata": {},
   "source": [
    "# Visualizing the difference between Actual and Predicted Value\n"
   ]
  },
  {
   "cell_type": "code",
   "execution_count": 16,
   "id": "70b84e40",
   "metadata": {},
   "outputs": [
    {
     "data": {
      "image/png": "[encoded data removed]",
      "text/plain": [
       "<Figure size 432x432 with 1 Axes>"
      ]
     },
     "metadata": {
      "needs_background": "light"
     },
     "output_type": "display_data"
    }
   ],
   "source": [
    "\n",
    "df.plot(kind=\"bar\", figsize=(6,6))\n",
    "plt.title('Hrs Studied vs Percentage Score')\n",
    "plt.xlabel('Hours student studied')\n",
    "plt.ylabel('% of student\\'s score') \n",
    "plt.show()"
   ]
  },
  {
   "cell_type": "markdown",
   "id": "e54a1588",
   "metadata": {},
   "source": [
    "# Estimating training and test score\n"
   ]
  },
  {
   "cell_type": "code",
   "execution_count": 17,
   "id": "f3054334",
   "metadata": {},
   "outputs": [
    {
     "name": "stdout",
     "output_type": "stream",
     "text": [
      "Training Score:  0.9484997422695115\n",
      "Test Score:  0.9568211104435257\n"
     ]
    }
   ],
   "source": [
    "\n",
    "print(\"Training Score: \",linear_regression.score(X_train,y_train))\n",
    "print(\"Test Score: \",linear_regression.score(X_test,y_test))\n",
    "\n"
   ]
  },
  {
   "cell_type": "markdown",
   "id": "f92e6401",
   "metadata": {},
   "source": [
    "# Predicted score if a student studies for 9.25 hrs/ day\n"
   ]
  },
  {
   "cell_type": "code",
   "execution_count": 18,
   "id": "a79fcf14",
   "metadata": {},
   "outputs": [
    {
     "name": "stdout",
     "output_type": "stream",
     "text": [
      "Hours student study = [9.25]\n",
      "Predicted Score of student = 92.91505723477056\n"
     ]
    }
   ],
   "source": [
    "\n",
    "hrs = [9.25] \n",
    "ans = linear_regression.predict([hrs])\n",
    "print(\"Hours student study = {}\".format(hrs))\n",
    "print(\"Predicted Score of student = {}\".format(ans[0]))"
   ]
  },
  {
   "cell_type": "markdown",
   "id": "630d59e5",
   "metadata": {},
   "source": [
    "# Finding the residuals : It is very important to calculate the performance of the model.\n"
   ]
  },
  {
   "cell_type": "code",
   "execution_count": 19,
   "id": "a2b519ee",
   "metadata": {},
   "outputs": [
    {
     "name": "stdout",
     "output_type": "stream",
     "text": [
      "Mean Absolute Error =>  4.419727808027651\n",
      "Mean Square Error =>  22.965097212700428\n",
      "Root Mean Squred Error =>  4.7921912746363144\n"
     ]
    }
   ],
   "source": [
    "\n",
    "from sklearn import metrics\n",
    "print('Mean Absolute Error => ', metrics.mean_absolute_error(y_test,y_pred))\n",
    "print('Mean Square Error => ', metrics.mean_squared_error(y_test,y_pred))\n",
    "print('Root Mean Squred Error => ', np.sqrt(metrics.mean_squared_error(y_test,y_pred)))"
   ]
  },
  {
   "cell_type": "markdown",
   "id": "6c37d0a9",
   "metadata": {},
   "source": [
    "# An approx. 93 (percent) is achieved by student if he studies for 9.25 hrs/day."
   ]
  },
  {
   "cell_type": "code",
   "execution_count": null,
   "id": "4cf1699c",
   "metadata": {},
   "outputs": [],
   "source": []
  }
 ],
 "metadata": {
  "kernelspec": {
   "display_name": "Python 3",
   "language": "python",
   "name": "python3"
  },
  "language_info": {
   "codemirror_mode": {
    "name": "ipython",
    "version": 3
   },
   "file_extension": ".py",
   "mimetype": "text/x-python",
   "name": "python",
   "nbconvert_exporter": "python",
   "pygments_lexer": "ipython3",
   "version": "3.8.8"
  }
 },
 "nbformat": 4,
 "nbformat_minor": 5
}
